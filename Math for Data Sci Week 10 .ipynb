{
 "cells": [
  {
   "cell_type": "code",
   "execution_count": 1,
   "id": "a1527fb4",
   "metadata": {},
   "outputs": [],
   "source": [
    "# 1. Summarizing Data\n",
    "## working with the file qb_stats.csv"
   ]
  },
  {
   "cell_type": "code",
   "execution_count": 2,
   "id": "1c57b4f4",
   "metadata": {},
   "outputs": [
    {
     "data": {
      "text/html": [
       "<div>\n",
       "<style scoped>\n",
       "    .dataframe tbody tr th:only-of-type {\n",
       "        vertical-align: middle;\n",
       "    }\n",
       "\n",
       "    .dataframe tbody tr th {\n",
       "        vertical-align: top;\n",
       "    }\n",
       "\n",
       "    .dataframe thead th {\n",
       "        text-align: right;\n",
       "    }\n",
       "</style>\n",
       "<table border=\"1\" class=\"dataframe\">\n",
       "  <thead>\n",
       "    <tr style=\"text-align: right;\">\n",
       "      <th></th>\n",
       "      <th>name</th>\n",
       "      <th>team</th>\n",
       "      <th>games</th>\n",
       "      <th>att</th>\n",
       "      <th>cmp</th>\n",
       "      <th>comp_pct</th>\n",
       "      <th>yds</th>\n",
       "      <th>ypa</th>\n",
       "      <th>td</th>\n",
       "      <th>int</th>\n",
       "      <th>sack</th>\n",
       "      <th>loss</th>\n",
       "      <th>rating</th>\n",
       "    </tr>\n",
       "  </thead>\n",
       "  <tbody>\n",
       "    <tr>\n",
       "      <th>0</th>\n",
       "      <td>Ryan Tannehill</td>\n",
       "      <td>TEN</td>\n",
       "      <td>12.0</td>\n",
       "      <td>286.0</td>\n",
       "      <td>201.0</td>\n",
       "      <td>70.3</td>\n",
       "      <td>2742.0</td>\n",
       "      <td>9.6</td>\n",
       "      <td>22.0</td>\n",
       "      <td>6.0</td>\n",
       "      <td>31.0</td>\n",
       "      <td>212.0</td>\n",
       "      <td>117.5</td>\n",
       "    </tr>\n",
       "    <tr>\n",
       "      <th>1</th>\n",
       "      <td>Drew Brees</td>\n",
       "      <td>NO</td>\n",
       "      <td>11.0</td>\n",
       "      <td>378.0</td>\n",
       "      <td>281.0</td>\n",
       "      <td>74.3</td>\n",
       "      <td>2979.0</td>\n",
       "      <td>7.9</td>\n",
       "      <td>27.0</td>\n",
       "      <td>4.0</td>\n",
       "      <td>12.0</td>\n",
       "      <td>89.0</td>\n",
       "      <td>116.3</td>\n",
       "    </tr>\n",
       "    <tr>\n",
       "      <th>2</th>\n",
       "      <td>Lamar Jackson</td>\n",
       "      <td>BAL</td>\n",
       "      <td>15.0</td>\n",
       "      <td>401.0</td>\n",
       "      <td>265.0</td>\n",
       "      <td>66.1</td>\n",
       "      <td>3127.0</td>\n",
       "      <td>7.8</td>\n",
       "      <td>36.0</td>\n",
       "      <td>6.0</td>\n",
       "      <td>23.0</td>\n",
       "      <td>106.0</td>\n",
       "      <td>113.3</td>\n",
       "    </tr>\n",
       "    <tr>\n",
       "      <th>3</th>\n",
       "      <td>Kirk Cousins</td>\n",
       "      <td>MIN</td>\n",
       "      <td>15.0</td>\n",
       "      <td>444.0</td>\n",
       "      <td>307.0</td>\n",
       "      <td>69.1</td>\n",
       "      <td>3603.0</td>\n",
       "      <td>8.1</td>\n",
       "      <td>26.0</td>\n",
       "      <td>6.0</td>\n",
       "      <td>28.0</td>\n",
       "      <td>206.0</td>\n",
       "      <td>107.4</td>\n",
       "    </tr>\n",
       "    <tr>\n",
       "      <th>4</th>\n",
       "      <td>Russell Wilson</td>\n",
       "      <td>SEA</td>\n",
       "      <td>16.0</td>\n",
       "      <td>516.0</td>\n",
       "      <td>341.0</td>\n",
       "      <td>66.1</td>\n",
       "      <td>4110.0</td>\n",
       "      <td>8.0</td>\n",
       "      <td>31.0</td>\n",
       "      <td>5.0</td>\n",
       "      <td>48.0</td>\n",
       "      <td>319.0</td>\n",
       "      <td>106.3</td>\n",
       "    </tr>\n",
       "  </tbody>\n",
       "</table>\n",
       "</div>"
      ],
      "text/plain": [
       "             name team  games    att    cmp  comp_pct     yds  ypa    td  int  \\\n",
       "0  Ryan Tannehill  TEN   12.0  286.0  201.0      70.3  2742.0  9.6  22.0  6.0   \n",
       "1      Drew Brees   NO   11.0  378.0  281.0      74.3  2979.0  7.9  27.0  4.0   \n",
       "2   Lamar Jackson  BAL   15.0  401.0  265.0      66.1  3127.0  7.8  36.0  6.0   \n",
       "3    Kirk Cousins  MIN   15.0  444.0  307.0      69.1  3603.0  8.1  26.0  6.0   \n",
       "4  Russell Wilson  SEA   16.0  516.0  341.0      66.1  4110.0  8.0  31.0  5.0   \n",
       "\n",
       "   sack   loss  rating  \n",
       "0  31.0  212.0   117.5  \n",
       "1  12.0   89.0   116.3  \n",
       "2  23.0  106.0   113.3  \n",
       "3  28.0  206.0   107.4  \n",
       "4  48.0  319.0   106.3  "
      ]
     },
     "execution_count": 2,
     "metadata": {},
     "output_type": "execute_result"
    }
   ],
   "source": [
    "# Import libraries and dataset\n",
    "#Vizualize the dataset. \n",
    "\n",
    "import numpy as np\n",
    "import matplotlib.pyplot as plt\n",
    "import pandas as pd\n",
    "import seaborn as sns; sns.set()\n",
    "\n",
    "data = pd.read_csv('qb_stats.csv')\n",
    "\n",
    "data.head()"
   ]
  },
  {
   "cell_type": "code",
   "execution_count": 3,
   "id": "c31b15da",
   "metadata": {},
   "outputs": [
    {
     "name": "stderr",
     "output_type": "stream",
     "text": [
      "C:\\Users\\ashem\\AppData\\Local\\Temp\\ipykernel_15328\\1891117299.py:3: FutureWarning: The default value of numeric_only in DataFrame.mean is deprecated. In a future version, it will default to False. In addition, specifying 'numeric_only=None' is deprecated. Select only valid columns or specify the value of numeric_only to silence this warning.\n",
      "  data.mean()\n"
     ]
    },
    {
     "data": {
      "text/plain": [
       "games         14.125000\n",
       "att          478.406250\n",
       "cmp          306.562500\n",
       "comp_pct      64.296875\n",
       "yds         3515.062500\n",
       "ypa            7.375000\n",
       "td            22.375000\n",
       "int           10.343750\n",
       "sack          32.312500\n",
       "loss         217.093750\n",
       "rating        93.387500\n",
       "dtype: float64"
      ]
     },
     "execution_count": 3,
     "metadata": {},
     "output_type": "execute_result"
    }
   ],
   "source": [
    "# (a) Find the mean of each numerical column of data. \n",
    "\n",
    "data.mean()"
   ]
  },
  {
   "cell_type": "code",
   "execution_count": 4,
   "id": "68537f4d",
   "metadata": {},
   "outputs": [
    {
     "name": "stderr",
     "output_type": "stream",
     "text": [
      "C:\\Users\\ashem\\AppData\\Local\\Temp\\ipykernel_15328\\1159526231.py:3: FutureWarning: The default value of numeric_only in DataFrame.std is deprecated. In a future version, it will default to False. In addition, specifying 'numeric_only=None' is deprecated. Select only valid columns or specify the value of numeric_only to silence this warning.\n",
      "  data.std()\n"
     ]
    },
    {
     "data": {
      "text/plain": [
       "games         2.406309\n",
       "att         110.360366\n",
       "cmp          68.929575\n",
       "comp_pct      3.627537\n",
       "yds         852.437489\n",
       "ypa           0.796768\n",
       "td            6.256609\n",
       "int           5.839849\n",
       "sack         10.514008\n",
       "loss         70.786075\n",
       "rating       11.054725\n",
       "dtype: float64"
      ]
     },
     "execution_count": 4,
     "metadata": {},
     "output_type": "execute_result"
    }
   ],
   "source": [
    "# (b) Find the standard deviation of each numerical column of data\n",
    "\n",
    "data.std()"
   ]
  },
  {
   "cell_type": "code",
   "execution_count": 5,
   "id": "ed93f890",
   "metadata": {},
   "outputs": [
    {
     "data": {
      "text/plain": [
       "Text(0.5, 0, 'yards')"
      ]
     },
     "execution_count": 5,
     "metadata": {},
     "output_type": "execute_result"
    },
    {
     "data": {
      "image/png": "[encoded data removed]",
      "text/plain": [
       "<Figure size 640x480 with 1 Axes>"
      ]
     },
     "metadata": {},
     "output_type": "display_data"
    }
   ],
   "source": [
    "# (c) Create a historgram of the number of yards; label it appropriatley. \n",
    "\n",
    "plt.hist(data['yds'])\n",
    "plt.title('The number of yards')\n",
    "plt.xlabel('yards')"
   ]
  },
  {
   "cell_type": "code",
   "execution_count": 6,
   "id": "e1ccdb5a",
   "metadata": {},
   "outputs": [
    {
     "name": "stdout",
     "output_type": "stream",
     "text": [
      "The point outside of the box is a minimum outlier\n"
     ]
    },
    {
     "data": {
      "image/png": "[encoded data removed]",
      "text/plain": [
       "<Figure size 640x480 with 1 Axes>"
      ]
     },
     "metadata": {},
     "output_type": "display_data"
    }
   ],
   "source": [
    "# (d) Create a boxplot of the number of touchdowns. Identify any outliers\n",
    "\n",
    "plt.boxplot(data['td'])\n",
    "plt.title('The number of touchdowns')\n",
    "plt.xlabel('touchdowns')\n",
    "print(\"The point outside of the box is a minimum outlier\")"
   ]
  },
  {
   "cell_type": "code",
   "execution_count": 7,
   "id": "c78b4705",
   "metadata": {},
   "outputs": [],
   "source": [
    "# 2. Calculating Probabilites from Data\n",
    "## Working with the file survery_data.csv"
   ]
  },
  {
   "cell_type": "code",
   "execution_count": 8,
   "id": "c3a69e62",
   "metadata": {},
   "outputs": [
    {
     "name": "stdout",
     "output_type": "stream",
     "text": [
      "  hair_color eye_color\n",
      "0      brown     brown\n",
      "1      brown     brown\n",
      "2      brown      blue\n",
      "3      brown     green\n",
      "4      brown     brown\n",
      "<class 'pandas.core.frame.DataFrame'>\n",
      "RangeIndex: 162 entries, 0 to 161\n",
      "Data columns (total 2 columns):\n",
      " #   Column      Non-Null Count  Dtype \n",
      "---  ------      --------------  ----- \n",
      " 0   hair_color  162 non-null    object\n",
      " 1   eye_color   162 non-null    object\n",
      "dtypes: object(2)\n",
      "memory usage: 2.7+ KB\n",
      "None\n"
     ]
    }
   ],
   "source": [
    "# Import libraries, load and visualize the dataset. \n",
    "\n",
    "import numpy as np\n",
    "import matplotlib.pyplot as plt\n",
    "import pandas as pd\n",
    "import seaborn as sns; sns.set()\n",
    "\n",
    "df = pd.read_csv('survey_data.csv')\n",
    "\n",
    "print(df.head())\n",
    "print(df.info())"
   ]
  },
  {
   "cell_type": "code",
   "execution_count": 9,
   "id": "d0eb0081",
   "metadata": {},
   "outputs": [
    {
     "name": "stdout",
     "output_type": "stream",
     "text": [
      "The hair color brown occurs: 83 times.\n",
      "The probability of a college student having brown hair is 0.5123456790123457 or 51.0%\n"
     ]
    }
   ],
   "source": [
    "# (a) Based off this data, what is the probability a college student has brown hair?\n",
    "\n",
    "print('The hair color brown occurs:' ,df['hair_color'].value_counts()['brown'], 'times.')\n",
    "\n",
    "brown = 83\n",
    "hair = 162\n",
    "probability = brown/hair\n",
    "probability_percent = probability*100\n",
    "print('The probability of a college student having brown hair is',(probability), 'or', (str(round(probability_percent,0)) + '%'))"
   ]
  },
  {
   "cell_type": "code",
   "execution_count": 10,
   "id": "35e7ca7c",
   "metadata": {},
   "outputs": [
    {
     "name": "stdout",
     "output_type": "stream",
     "text": [
      "The eye color blue occurs: 40 times.\n",
      "The probability of a college student having brown hair is 0.24691358024691357 or 25.0%\n"
     ]
    }
   ],
   "source": [
    "# (b) Based off of this data, what is the probability a college student has blue eyes?\n",
    "\n",
    "print('The eye color blue occurs:' ,df['eye_color'].value_counts()['blue'], 'times.')\n",
    "\n",
    "blue = 40 \n",
    "eye= 162\n",
    "probability2 = blue / eye \n",
    "probability2_percent = probability2*100\n",
    "print('The probability of a college student having brown hair is',(probability2), 'or', (str(round(probability2_percent,0)) + '%'))"
   ]
  },
  {
   "cell_type": "code",
   "execution_count": 11,
   "id": "a7f651c0",
   "metadata": {},
   "outputs": [
    {
     "name": "stdout",
     "output_type": "stream",
     "text": [
      "hair_color  eye_color\n",
      "black       black         6\n",
      "            blue          1\n",
      "            brown        11\n",
      "            green         4\n",
      "blond       blue          3\n",
      "            brown         2\n",
      "blonde      blue         15\n",
      "            brown         7\n",
      "            green        13\n",
      "            other         3\n",
      "brown       black         2\n",
      "            blue         18\n",
      "            brown        42\n",
      "            green        18\n",
      "            other         3\n",
      "gray        brown         1\n",
      "other       green         2\n",
      "            other         1\n",
      "red         blue          2\n",
      "            brown         1\n",
      "            green         4\n",
      "            other         2\n",
      "white       blue          1\n",
      "dtype: int64\n",
      "the probability a college student has blue eyes given that they have brown hair 0.21686746987951808 or 22.0%\n"
     ]
    }
   ],
   "source": [
    "# (c) Based off of this data, what is the probability a college student has blue eyes given that they have brown hair?\n",
    "count_series = df.groupby(['hair_color','eye_color']).size()\n",
    "print(count_series)\n",
    "\n",
    "betobh = 18 \n",
    "brown = 83\n",
    "\n",
    "probability3 = betobh/brown\n",
    "probability3_percent = probability3*100\n",
    "print('the probability a college student has blue eyes given that they have brown hair',(probability3), 'or', (str(round(probability3_percent,0)) + '%'))"
   ]
  },
  {
   "cell_type": "code",
   "execution_count": 12,
   "id": "4746c8b9",
   "metadata": {},
   "outputs": [
    {
     "name": "stdout",
     "output_type": "stream",
     "text": [
      "eye_color  hair_color\n",
      "black      black          6\n",
      "           brown          2\n",
      "blue       black          1\n",
      "           blond          3\n",
      "           blonde        15\n",
      "           brown         18\n",
      "           red            2\n",
      "           white          1\n",
      "brown      black         11\n",
      "           blond          2\n",
      "           blonde         7\n",
      "           brown         42\n",
      "           gray           1\n",
      "           red            1\n",
      "green      black          4\n",
      "           blonde        13\n",
      "           brown         18\n",
      "           other          2\n",
      "           red            4\n",
      "other      blonde         3\n",
      "           brown          3\n",
      "           other          1\n",
      "           red            2\n",
      "dtype: int64\n",
      "The probability a college student has brown hair given that they have blue eyes 0.45 or 45.0%\n"
     ]
    }
   ],
   "source": [
    "# (d) Based off of this data, what is the probability a college student has brown hair given that they have blue eyes?\n",
    "\n",
    "count_series = df.groupby(['eye_color','hair_color']).size()\n",
    "print(count_series)\n",
    "\n",
    "bhtobe = 18 \n",
    "blue= 40\n",
    "\n",
    "probability4 = bhtobe/blue\n",
    "probability4_percent = probability4*100\n",
    "print('The probability a college student has brown hair given that they have blue eyes',(probability4), 'or', (str(round(probability4_percent,0)) + '%'))"
   ]
  },
  {
   "cell_type": "code",
   "execution_count": 13,
   "id": "b761473d",
   "metadata": {},
   "outputs": [
    {
     "name": "stdout",
     "output_type": "stream",
     "text": [
      "0.21686746987951808\n",
      "0.5123456790123457\n",
      "0.45\n",
      "0.24691358024691357\n",
      "The values of each equation do not equal one another and are therefore not independent.\n"
     ]
    }
   ],
   "source": [
    "# (e) Do your results above indicate that college students having brown hair and blue eyes are independent of one another? Explain.\n",
    "## P(BH, BE) = P(BH) \n",
    "probability3 = betobh/brown # be is the same as blue eyes\n",
    "print(probability3)\n",
    "\n",
    "totalBH = 83/162\n",
    "print(totalBH) # BH is the same thing as brown hair\n",
    "\n",
    "## P(BE,BH) = P(BE)\n",
    "probability4\n",
    "print(probability4)\n",
    "\n",
    "totalBE = 40/162\n",
    "print(totalBE)\n",
    "\n",
    "print('The values of each equation do not equal one another and are therefore not independent.')"
   ]
  },
  {
   "cell_type": "code",
   "execution_count": 14,
   "id": "cfcc56ac",
   "metadata": {},
   "outputs": [
    {
     "data": {
      "text/plain": [
       "Text(0.5, 1.0, 'Hair and Eye Color of the Group of Students')"
      ]
     },
     "execution_count": 14,
     "metadata": {},
     "output_type": "execute_result"
    },
    {
     "data": {
      "image/png": "[encoded data removed]",
      "text/plain": [
       "<Figure size 640x480 with 1 Axes>"
      ]
     },
     "metadata": {},
     "output_type": "display_data"
    }
   ],
   "source": [
    "# (f) Create a bar graph of the hair color and eye color of this group of students. Label the graphs appropriately.\n",
    "\n",
    "import matplotlib.pyplot as plt\n",
    "import pandas as pd\n",
    "\n",
    "plt.bar(x = df['hair_color'], height = df['eye_color'])\n",
    "plt.xlabel ('Hair Colors')\n",
    "plt.ylabel ('Eye Colors')\n",
    "plt.title('Hair and Eye Color of the Group of Students')"
   ]
  },
  {
   "cell_type": "code",
   "execution_count": null,
   "id": "8198f491",
   "metadata": {},
   "outputs": [],
   "source": []
  }
 ],
 "metadata": {
  "kernelspec": {
   "display_name": "Python 3 (ipykernel)",
   "language": "python",
   "name": "python3"
  },
  "language_info": {
   "codemirror_mode": {
    "name": "ipython",
    "version": 3
   },
   "file_extension": ".py",
   "mimetype": "text/x-python",
   "name": "python",
   "nbconvert_exporter": "python",
   "pygments_lexer": "ipython3",
   "version": "3.11.0"
  }
 },
 "nbformat": 4,
 "nbformat_minor": 5
}
